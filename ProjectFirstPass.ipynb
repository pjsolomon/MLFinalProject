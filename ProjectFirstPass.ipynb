{
 "cells": [
  {
   "cell_type": "code",
   "execution_count": 18,
   "metadata": {},
   "outputs": [
    {
     "name": "stdout",
     "output_type": "stream",
     "text": [
      "28\n"
     ]
    }
   ],
   "source": [
    "%matplotlib inline\n",
    "import numpy as np\n",
    "import pandas as pd\n",
    "import matplotlib.pyplot as plt\n",
    "from sklearn.linear_model import LinearRegression\n",
    "\n",
    "from sklearn import svm, datasets\n",
    "from sklearn.model_selection import KFold\n",
    "from sklearn.model_selection import cross_val_score\n",
    "from time import time\n",
    "\n",
    "import os\n",
    "from sklearn import preprocessing\n",
    "\n",
    "# Time, Interpolated, Sensor1-14\n",
    "titles = [\"Time\", \"Interpolated\", \"Sensor1\", \"Sensor2\", \"Sensor3\", \"Sensor4\", \"Sensor5\", \"Sensor6\", \"Sensor7\", \"Sensor8\", \"Sensor9\", \"Sensor10\", \"Sensor11\", \"Sensor12\", \"Sensor13\", \"Sensor14\"]\n",
    "\n",
    "filenames = []\n",
    "\n",
    "for z in range(1,30):\n",
    "    if(z == 6):\n",
    "        filenames.append(\"C:/Users/paulj/Desktop/BCI-SSVEP_Database_Aceves/A00\" + str(z) + \"SM1_3.csv\")\n",
    "    if(z < 10 and z != 6):\n",
    "        filenames.append(\"C:/Users/paulj/Desktop/BCI-SSVEP_Database_Aceves/A00\" + str(z) + \"SM1_1.csv\")\n",
    "    if(z >= 10 and z != 20):\n",
    "        filenames.append(\"C:/Users/paulj/Desktop/BCI-SSVEP_Database_Aceves/A0\" + str(z) + \"SM1_1.csv\")\n",
    "\n",
    "        \n",
    "print(len(filenames))\n",
    "dataframes = []\n",
    "\n",
    "for i in range(28):\n",
    "    dataframes.append(pd.read_csv(filenames[i], header=0, names=titles));"
   ]
  },
  {
   "cell_type": "code",
   "execution_count": 139,
   "metadata": {
    "scrolled": true
   },
   "outputs": [
    {
     "data": {
      "text/plain": [
       "array([0, 0])"
      ]
     },
     "execution_count": 139,
     "metadata": {},
     "output_type": "execute_result"
    }
   ],
   "source": [
    "desired_cols = ['Sensor1', \"Sensor2\", \"Sensor3\", \"Sensor4\", \"Sensor5\", \"Sensor6\", \"Sensor7\", \"Sensor8\", \"Sensor9\", \"Sensor10\", \"Sensor11\", \"Sensor12\", \"Sensor13\", \"Sensor14\"]\n",
    "\n",
    "fulldata = []\n",
    "for i in range(28):\n",
    "    fulldata.append(dataframes[i].loc[:,desired_cols])\n",
    "\n",
    "    \n",
    "stab, ropen, lopen, bopen, rclosed, lclosed, bclosed = [], [], [], [], [], [], []\n",
    "\n",
    "y = []\n",
    "for i in range(3200):\n",
    "    y.append(0)\n",
    "for i in range(6):\n",
    "    for i in range(640):\n",
    "        y.append(i)\n",
    "\n",
    "for i in fulldata:\n",
    "    stab.append(i.loc[:3200,:])\n",
    "    \n",
    "for i in fulldata:\n",
    "    ropen.append(i.loc[3200:3840,:])\n",
    "    \n",
    "for i in fulldata:\n",
    "    lopen.append(i.loc[3840:4480,:])\n",
    "    \n",
    "for i in fulldata:\n",
    "    bopen.append(i.loc[4480:5120,:])\n",
    "    \n",
    "for i in fulldata:\n",
    "    rclosed.append(i.loc[5120:5760,:])\n",
    "    \n",
    "for i in fulldata:\n",
    "    lclosed.append(i.loc[5760:6400,:])\n",
    "    \n",
    "for i in fulldata:\n",
    "    bclosed.append(i.loc[6400:7040,:])\n",
    "\n",
    "ropens1vars = []\n",
    "lopens1vars = []\n",
    "\n",
    "for i in range(25):\n",
    "    ropens1vars.append(np.var(ropen[i][\"Sensor1\"]))\n",
    "    lopens1vars.append(np.var(lopen[i][\"Sensor1\"]))\n",
    "\n",
    "#plt.scatter(ropens1array, lopens1array)\n",
    "#plt.scatter(lopens1array, 1)\n",
    "\n",
    "X = [ropens1array, lopens1array]\n",
    "y = [0, 1]\n",
    "clf = svm.SVC(gamma='scale')\n",
    "clf.fit(X, y)\n",
    "\n",
    "a = np.var(ropen[i][\"Sensor1\"])\n",
    "b = np.var(ropen[i][\"Sensor2\"])\n",
    "\n",
    "test = [ropens1array, ropens1array]\n",
    "clf.predict(test)\n",
    "\n"
   ]
  },
  {
   "cell_type": "code",
   "execution_count": null,
   "metadata": {},
   "outputs": [],
   "source": [
    "test = True\n",
    "if test:\n",
    "    plt.figure(figsize = (10,8));\n",
    "    plt.subplot(321)\n",
    "    plt.plot(ropen[1][\"Sensor1\"])\n",
    "    plt.title('R Open Trial 1')\n",
    "\n",
    "    plt.subplot(322)\n",
    "    plt.plot(ropen[2][\"Sensor1\"]);\n",
    "    plt.title('R Open Trial 2')\n",
    "\n",
    "    plt.subplot(323)\n",
    "    plt.plot(lopen[3][\"Sensor1\"])\n",
    "    plt.title('L Open Trial 3')\n",
    "\n",
    "    plt.subplot(324)\n",
    "    plt.plot(lopen[4][\"Sensor1\"]);\n",
    "    plt.title('L Open Trial 4')"
   ]
  },
  {
   "cell_type": "code",
   "execution_count": null,
   "metadata": {},
   "outputs": [],
   "source": []
  }
 ],
 "metadata": {
  "kernelspec": {
   "display_name": "Python 3",
   "language": "python",
   "name": "python3"
  },
  "language_info": {
   "codemirror_mode": {
    "name": "ipython",
    "version": 3
   },
   "file_extension": ".py",
   "mimetype": "text/x-python",
   "name": "python",
   "nbconvert_exporter": "python",
   "pygments_lexer": "ipython3",
   "version": "3.7.3"
  }
 },
 "nbformat": 4,
 "nbformat_minor": 2
}
